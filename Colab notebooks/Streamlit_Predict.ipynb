{
  "nbformat": 4,
  "nbformat_minor": 0,
  "metadata": {
    "colab": {
      "provenance": []
    },
    "kernelspec": {
      "name": "python3",
      "display_name": "Python 3"
    },
    "language_info": {
      "name": "python"
    }
  },
  "cells": [
    {
      "cell_type": "code",
      "execution_count": 51,
      "metadata": {
        "colab": {
          "base_uri": "https://localhost:8080/"
        },
        "id": "851zLO9jEhMe",
        "outputId": "be20c8f1-8dec-4901-a1bd-3a8629d3860f"
      },
      "outputs": [
        {
          "output_type": "stream",
          "name": "stdout",
          "text": [
            "Requirement already satisfied: streamlit in /usr/local/lib/python3.12/dist-packages (1.51.0)\n",
            "Requirement already satisfied: joblib in /usr/local/lib/python3.12/dist-packages (1.5.2)\n",
            "Requirement already satisfied: torch in /usr/local/lib/python3.12/dist-packages (2.8.0+cu126)\n",
            "Requirement already satisfied: scikit-learn in /usr/local/lib/python3.12/dist-packages (1.6.1)\n",
            "Requirement already satisfied: matplotlib in /usr/local/lib/python3.12/dist-packages (3.10.0)\n",
            "Requirement already satisfied: altair!=5.4.0,!=5.4.1,<6,>=4.0 in /usr/local/lib/python3.12/dist-packages (from streamlit) (5.5.0)\n",
            "Requirement already satisfied: blinker<2,>=1.5.0 in /usr/local/lib/python3.12/dist-packages (from streamlit) (1.9.0)\n",
            "Requirement already satisfied: cachetools<7,>=4.0 in /usr/local/lib/python3.12/dist-packages (from streamlit) (5.5.2)\n",
            "Requirement already satisfied: click<9,>=7.0 in /usr/local/lib/python3.12/dist-packages (from streamlit) (8.3.0)\n",
            "Requirement already satisfied: numpy<3,>=1.23 in /usr/local/lib/python3.12/dist-packages (from streamlit) (2.0.2)\n",
            "Requirement already satisfied: packaging<26,>=20 in /usr/local/lib/python3.12/dist-packages (from streamlit) (25.0)\n",
            "Requirement already satisfied: pandas<3,>=1.4.0 in /usr/local/lib/python3.12/dist-packages (from streamlit) (2.2.2)\n",
            "Requirement already satisfied: pillow<13,>=7.1.0 in /usr/local/lib/python3.12/dist-packages (from streamlit) (11.3.0)\n",
            "Requirement already satisfied: protobuf<7,>=3.20 in /usr/local/lib/python3.12/dist-packages (from streamlit) (5.29.5)\n",
            "Requirement already satisfied: pyarrow<22,>=7.0 in /usr/local/lib/python3.12/dist-packages (from streamlit) (18.1.0)\n",
            "Requirement already satisfied: requests<3,>=2.27 in /usr/local/lib/python3.12/dist-packages (from streamlit) (2.32.4)\n",
            "Requirement already satisfied: tenacity<10,>=8.1.0 in /usr/local/lib/python3.12/dist-packages (from streamlit) (8.5.0)\n",
            "Requirement already satisfied: toml<2,>=0.10.1 in /usr/local/lib/python3.12/dist-packages (from streamlit) (0.10.2)\n",
            "Requirement already satisfied: typing-extensions<5,>=4.4.0 in /usr/local/lib/python3.12/dist-packages (from streamlit) (4.15.0)\n",
            "Requirement already satisfied: watchdog<7,>=2.1.5 in /usr/local/lib/python3.12/dist-packages (from streamlit) (6.0.0)\n",
            "Requirement already satisfied: gitpython!=3.1.19,<4,>=3.0.7 in /usr/local/lib/python3.12/dist-packages (from streamlit) (3.1.45)\n",
            "Requirement already satisfied: pydeck<1,>=0.8.0b4 in /usr/local/lib/python3.12/dist-packages (from streamlit) (0.9.1)\n",
            "Requirement already satisfied: tornado!=6.5.0,<7,>=6.0.3 in /usr/local/lib/python3.12/dist-packages (from streamlit) (6.5.1)\n",
            "Requirement already satisfied: filelock in /usr/local/lib/python3.12/dist-packages (from torch) (3.20.0)\n",
            "Requirement already satisfied: setuptools in /usr/local/lib/python3.12/dist-packages (from torch) (75.2.0)\n",
            "Requirement already satisfied: sympy>=1.13.3 in /usr/local/lib/python3.12/dist-packages (from torch) (1.13.3)\n",
            "Requirement already satisfied: networkx in /usr/local/lib/python3.12/dist-packages (from torch) (3.5)\n",
            "Requirement already satisfied: jinja2 in /usr/local/lib/python3.12/dist-packages (from torch) (3.1.6)\n",
            "Requirement already satisfied: fsspec in /usr/local/lib/python3.12/dist-packages (from torch) (2025.3.0)\n",
            "Requirement already satisfied: nvidia-cuda-nvrtc-cu12==12.6.77 in /usr/local/lib/python3.12/dist-packages (from torch) (12.6.77)\n",
            "Requirement already satisfied: nvidia-cuda-runtime-cu12==12.6.77 in /usr/local/lib/python3.12/dist-packages (from torch) (12.6.77)\n",
            "Requirement already satisfied: nvidia-cuda-cupti-cu12==12.6.80 in /usr/local/lib/python3.12/dist-packages (from torch) (12.6.80)\n",
            "Requirement already satisfied: nvidia-cudnn-cu12==9.10.2.21 in /usr/local/lib/python3.12/dist-packages (from torch) (9.10.2.21)\n",
            "Requirement already satisfied: nvidia-cublas-cu12==12.6.4.1 in /usr/local/lib/python3.12/dist-packages (from torch) (12.6.4.1)\n",
            "Requirement already satisfied: nvidia-cufft-cu12==11.3.0.4 in /usr/local/lib/python3.12/dist-packages (from torch) (11.3.0.4)\n",
            "Requirement already satisfied: nvidia-curand-cu12==10.3.7.77 in /usr/local/lib/python3.12/dist-packages (from torch) (10.3.7.77)\n",
            "Requirement already satisfied: nvidia-cusolver-cu12==11.7.1.2 in /usr/local/lib/python3.12/dist-packages (from torch) (11.7.1.2)\n",
            "Requirement already satisfied: nvidia-cusparse-cu12==12.5.4.2 in /usr/local/lib/python3.12/dist-packages (from torch) (12.5.4.2)\n",
            "Requirement already satisfied: nvidia-cusparselt-cu12==0.7.1 in /usr/local/lib/python3.12/dist-packages (from torch) (0.7.1)\n",
            "Requirement already satisfied: nvidia-nccl-cu12==2.27.3 in /usr/local/lib/python3.12/dist-packages (from torch) (2.27.3)\n",
            "Requirement already satisfied: nvidia-nvtx-cu12==12.6.77 in /usr/local/lib/python3.12/dist-packages (from torch) (12.6.77)\n",
            "Requirement already satisfied: nvidia-nvjitlink-cu12==12.6.85 in /usr/local/lib/python3.12/dist-packages (from torch) (12.6.85)\n",
            "Requirement already satisfied: nvidia-cufile-cu12==1.11.1.6 in /usr/local/lib/python3.12/dist-packages (from torch) (1.11.1.6)\n",
            "Requirement already satisfied: triton==3.4.0 in /usr/local/lib/python3.12/dist-packages (from torch) (3.4.0)\n",
            "Requirement already satisfied: scipy>=1.6.0 in /usr/local/lib/python3.12/dist-packages (from scikit-learn) (1.16.3)\n",
            "Requirement already satisfied: threadpoolctl>=3.1.0 in /usr/local/lib/python3.12/dist-packages (from scikit-learn) (3.6.0)\n",
            "Requirement already satisfied: contourpy>=1.0.1 in /usr/local/lib/python3.12/dist-packages (from matplotlib) (1.3.3)\n",
            "Requirement already satisfied: cycler>=0.10 in /usr/local/lib/python3.12/dist-packages (from matplotlib) (0.12.1)\n",
            "Requirement already satisfied: fonttools>=4.22.0 in /usr/local/lib/python3.12/dist-packages (from matplotlib) (4.60.1)\n",
            "Requirement already satisfied: kiwisolver>=1.3.1 in /usr/local/lib/python3.12/dist-packages (from matplotlib) (1.4.9)\n",
            "Requirement already satisfied: pyparsing>=2.3.1 in /usr/local/lib/python3.12/dist-packages (from matplotlib) (3.2.5)\n",
            "Requirement already satisfied: python-dateutil>=2.7 in /usr/local/lib/python3.12/dist-packages (from matplotlib) (2.9.0.post0)\n",
            "Requirement already satisfied: jsonschema>=3.0 in /usr/local/lib/python3.12/dist-packages (from altair!=5.4.0,!=5.4.1,<6,>=4.0->streamlit) (4.25.1)\n",
            "Requirement already satisfied: narwhals>=1.14.2 in /usr/local/lib/python3.12/dist-packages (from altair!=5.4.0,!=5.4.1,<6,>=4.0->streamlit) (2.10.0)\n",
            "Requirement already satisfied: gitdb<5,>=4.0.1 in /usr/local/lib/python3.12/dist-packages (from gitpython!=3.1.19,<4,>=3.0.7->streamlit) (4.0.12)\n",
            "Requirement already satisfied: pytz>=2020.1 in /usr/local/lib/python3.12/dist-packages (from pandas<3,>=1.4.0->streamlit) (2025.2)\n",
            "Requirement already satisfied: tzdata>=2022.7 in /usr/local/lib/python3.12/dist-packages (from pandas<3,>=1.4.0->streamlit) (2025.2)\n",
            "Requirement already satisfied: MarkupSafe>=2.0 in /usr/local/lib/python3.12/dist-packages (from jinja2->torch) (3.0.3)\n",
            "Requirement already satisfied: six>=1.5 in /usr/local/lib/python3.12/dist-packages (from python-dateutil>=2.7->matplotlib) (1.17.0)\n",
            "Requirement already satisfied: charset_normalizer<4,>=2 in /usr/local/lib/python3.12/dist-packages (from requests<3,>=2.27->streamlit) (3.4.4)\n",
            "Requirement already satisfied: idna<4,>=2.5 in /usr/local/lib/python3.12/dist-packages (from requests<3,>=2.27->streamlit) (3.11)\n",
            "Requirement already satisfied: urllib3<3,>=1.21.1 in /usr/local/lib/python3.12/dist-packages (from requests<3,>=2.27->streamlit) (2.5.0)\n",
            "Requirement already satisfied: certifi>=2017.4.17 in /usr/local/lib/python3.12/dist-packages (from requests<3,>=2.27->streamlit) (2025.10.5)\n",
            "Requirement already satisfied: mpmath<1.4,>=1.1.0 in /usr/local/lib/python3.12/dist-packages (from sympy>=1.13.3->torch) (1.3.0)\n",
            "Requirement already satisfied: smmap<6,>=3.0.1 in /usr/local/lib/python3.12/dist-packages (from gitdb<5,>=4.0.1->gitpython!=3.1.19,<4,>=3.0.7->streamlit) (5.0.2)\n",
            "Requirement already satisfied: attrs>=22.2.0 in /usr/local/lib/python3.12/dist-packages (from jsonschema>=3.0->altair!=5.4.0,!=5.4.1,<6,>=4.0->streamlit) (25.4.0)\n",
            "Requirement already satisfied: jsonschema-specifications>=2023.03.6 in /usr/local/lib/python3.12/dist-packages (from jsonschema>=3.0->altair!=5.4.0,!=5.4.1,<6,>=4.0->streamlit) (2025.9.1)\n",
            "Requirement already satisfied: referencing>=0.28.4 in /usr/local/lib/python3.12/dist-packages (from jsonschema>=3.0->altair!=5.4.0,!=5.4.1,<6,>=4.0->streamlit) (0.37.0)\n",
            "Requirement already satisfied: rpds-py>=0.7.1 in /usr/local/lib/python3.12/dist-packages (from jsonschema>=3.0->altair!=5.4.0,!=5.4.1,<6,>=4.0->streamlit) (0.28.0)\n"
          ]
        }
      ],
      "source": [
        "!pip install streamlit joblib torch scikit-learn matplotlib\n",
        "\n",
        "\n"
      ]
    },
    {
      "cell_type": "code",
      "source": [
        "!pip install streamlit pyngrok -q"
      ],
      "metadata": {
        "id": "zeTrltfYcTAN"
      },
      "execution_count": 52,
      "outputs": []
    },
    {
      "cell_type": "code",
      "source": [
        "!ls -lh\n"
      ],
      "metadata": {
        "colab": {
          "base_uri": "https://localhost:8080/"
        },
        "id": "NfP7tQDdIaVv",
        "outputId": "51b252b6-4e3d-41cd-83d5-31f8cf8c9a13"
      },
      "execution_count": 53,
      "outputs": [
        {
          "output_type": "stream",
          "name": "stdout",
          "text": [
            "total 8.2M\n",
            "-rw-r--r-- 1 root root 219K Oct 30 21:58 lstm_model.pth\n",
            "-rw-r--r-- 1 root root 5.2K Oct 30 22:40 predictwise_results.csv\n",
            "drwxr-xr-x 1 root root 4.0K Oct 29 13:38 sample_data\n",
            "-rw-r--r-- 1 root root 2.3K Oct 30 22:03 streamlit_app.py\n",
            "-rw-r--r-- 1 root root 7.9M Oct 30 21:58 xgb_model.pkl\n"
          ]
        }
      ]
    },
    {
      "cell_type": "code",
      "source": [
        "!pkill streamlit || echo \"No existing Streamlit process\"\n",
        "!pkill ngrok || echo \"No existing ngrok process\"\n"
      ],
      "metadata": {
        "colab": {
          "base_uri": "https://localhost:8080/"
        },
        "id": "Ubbc43VVcDCq",
        "outputId": "de0adc03-3d72-4c62-cbab-d7e8f87d5104"
      },
      "execution_count": 54,
      "outputs": [
        {
          "output_type": "stream",
          "name": "stdout",
          "text": [
            "No existing Streamlit process\n",
            "No existing ngrok process\n"
          ]
        }
      ]
    },
    {
      "cell_type": "code",
      "source": [
        "!ngrok config add-authtoken 34o4tTpQlwAaqZem3SexUPFUpUh_4kfcYm7FHM4LVMBBApJbV\n"
      ],
      "metadata": {
        "colab": {
          "base_uri": "https://localhost:8080/"
        },
        "id": "0IHOx0r-c2ve",
        "outputId": "5dc16c0b-1025-4623-847e-dfc5ad2e2df6"
      },
      "execution_count": 55,
      "outputs": [
        {
          "output_type": "stream",
          "name": "stdout",
          "text": [
            "Authtoken saved to configuration file: /root/.config/ngrok/ngrok.yml\n"
          ]
        }
      ]
    },
    {
      "cell_type": "code",
      "source": [
        "from pyngrok import ngrok\n",
        "\n",
        "port = 8501  # You can change to 8502 if you like\n",
        "public_url = ngrok.connect(port)\n",
        "print(\" Streamlit App URL:\", public_url)\n"
      ],
      "metadata": {
        "colab": {
          "base_uri": "https://localhost:8080/"
        },
        "id": "glT6nE0scE8w",
        "outputId": "d861e35b-26bc-4129-b61e-3832f085d623"
      },
      "execution_count": 56,
      "outputs": [
        {
          "output_type": "stream",
          "name": "stdout",
          "text": [
            " Streamlit App URL: NgrokTunnel: \"https://cristobal-subpectoral-rubie.ngrok-free.dev\" -> \"http://localhost:8501\"\n"
          ]
        }
      ]
    },
    {
      "cell_type": "code",
      "source": [
        "import streamlit as st\n",
        "import pandas as pd\n",
        "import numpy as np\n",
        "import torch\n",
        "import torch.nn as nn\n",
        "import joblib\n",
        "import matplotlib.pyplot as plt\n",
        "from sklearn.metrics import mean_squared_error, r2_score\n",
        "\n",
        "\n",
        "#  PAGE CONFIGURATION\n",
        "\n",
        "st.set_page_config(page_title=\"PredictWise – Sales Forecast Dashboard\", layout=\"wide\", page_icon=\"📈\")\n",
        "\n",
        "st.markdown(\n",
        "    \"\"\"\n",
        "    <style>\n",
        "        body { background-color: #0e1117; color: white; }\n",
        "        .main-title { text-align: center; color: #00BFFF; font-size: 36px; font-weight: bold; }\n",
        "        .subtitle { text-align: center; color: #BBBBBB; font-size: 18px; margin-bottom: 20px; }\n",
        "        .metric-box {\n",
        "            background-color: #1e2130;\n",
        "            padding: 15px;\n",
        "            border-radius: 10px;\n",
        "            text-align: center;\n",
        "            color: white;\n",
        "            margin-bottom: 10px;\n",
        "        }\n",
        "        .stDownloadButton button {\n",
        "            background-color: #00BFFF;\n",
        "            color: white;\n",
        "            border-radius: 8px;\n",
        "        }\n",
        "    </style>\n",
        "    \"\"\",\n",
        "    unsafe_allow_html=True\n",
        ")\n",
        "\n",
        "st.markdown(\"<p class='main-title'>📈 PredictWise – LSTM vs XGBoost Sales Forecast</p>\", unsafe_allow_html=True)\n",
        "st.markdown(\"<p class='subtitle'>Trained models compared on validation data below. Upload your own file to test predictions.</p>\", unsafe_allow_html=True)\n",
        "\n",
        "\n",
        "# LSTM MODEL DEFINITION\n",
        "\n",
        "class LSTMModel(nn.Module):\n",
        "    def __init__(self, input_size=18, hidden_size=64, num_layers=2, output_size=1):\n",
        "        super(LSTMModel, self).__init__()\n",
        "        self.lstm = nn.LSTM(input_size, hidden_size, num_layers, batch_first=True)\n",
        "        self.fc = nn.Linear(hidden_size, output_size)\n",
        "\n",
        "    def forward(self, x):\n",
        "        out, _ = self.lstm(x)\n",
        "        out = self.fc(out[:, -1, :])\n",
        "        return out\n",
        "\n",
        "\n",
        "# LOAD MODELS\n",
        "\n",
        "@st.cache_resource\n",
        "def load_models():\n",
        "    xgb_model = joblib.load(\"xgb_model.pkl\")\n",
        "\n",
        "    lstm_model = LSTMModel(input_size=18, hidden_size=64, num_layers=2, output_size=1)\n",
        "    state_dict = torch.load(\"lstm_model.pth\", map_location=torch.device(\"cpu\"))\n",
        "    lstm_model.load_state_dict(state_dict)\n",
        "    lstm_model.eval()\n",
        "    return xgb_model, lstm_model\n",
        "\n",
        "xgb_model, lstm_model = load_models()\n",
        "\n",
        "\n",
        "# LOAD TRAINED RESULTS (predictwise_results.csv)\n",
        "\n",
        "try:\n",
        "    df_results = pd.read_csv(\"predictwise_results.csv\")\n",
        "    st.success(\"✅ Model results loaded successfully.\")\n",
        "except FileNotFoundError:\n",
        "    st.warning(\"⚠️ Could not find 'predictwise_results.csv'. Showing random sample data.\")\n",
        "    df_results = pd.DataFrame({\n",
        "        \"Actual_Sales\": np.random.randint(2000, 9000, 50),\n",
        "        \"Pred_LSTM\": np.random.randint(2500, 9500, 50),\n",
        "        \"Pred_XGBoost\": np.random.randint(2200, 9700, 50)\n",
        "    })\n",
        "\n",
        "\n",
        "# SHOW TRAINED MODEL RESULTS\n",
        "\n",
        "st.markdown(\"### 🧠 Model Performance on Validation Data\")\n",
        "\n",
        "# Compute metrics\n",
        "rmse_xgb = np.sqrt(mean_squared_error(df_results[\"Actual_Sales\"], df_results[\"Pred_XGBoost\"]))\n",
        "rmse_lstm = np.sqrt(mean_squared_error(df_results[\"Actual_Sales\"], df_results[\"Pred_LSTM\"]))\n",
        "r2_xgb = r2_score(df_results[\"Actual_Sales\"], df_results[\"Pred_XGBoost\"])\n",
        "r2_lstm = r2_score(df_results[\"Actual_Sales\"], df_results[\"Pred_LSTM\"])\n",
        "\n",
        "# Layout for metrics\n",
        "col1, col2 = st.columns(2)\n",
        "with col1:\n",
        "    st.markdown(\"#### ⚙️ XGBoost Performance\")\n",
        "    st.markdown(f\"<div class='metric-box'><b>RMSE:</b> {rmse_xgb:.2f}<br><b>R² Score:</b> {r2_xgb:.4f}</div>\", unsafe_allow_html=True)\n",
        "with col2:\n",
        "    st.markdown(\"#### ⚙️ LSTM Performance\")\n",
        "    st.markdown(f\"<div class='metric-box'><b>RMSE:</b> {rmse_lstm:.2f}<br><b>R² Score:</b> {r2_lstm:.4f}</div>\", unsafe_allow_html=True)\n",
        "\n",
        "# Visualization – side by side plots\n",
        "col3, col4 = st.columns(2)\n",
        "with col3:\n",
        "    st.markdown(\"#### 📈 XGBoost vs Actual Sales\")\n",
        "    fig1, ax1 = plt.subplots(figsize=(6, 4))\n",
        "    ax1.plot(df_results[\"Actual_Sales\"][:80], label=\"Actual\", color=\"white\")\n",
        "    ax1.plot(df_results[\"Pred_XGBoost\"][:80], label=\"XGBoost\", color=\"#00FF7F\", linestyle=\"--\")\n",
        "    ax1.legend()\n",
        "    st.pyplot(fig1)\n",
        "\n",
        "with col4:\n",
        "    st.markdown(\"#### 📈 LSTM vs Actual Sales\")\n",
        "    fig2, ax2 = plt.subplots(figsize=(6, 4))\n",
        "    ax2.plot(df_results[\"Actual_Sales\"][:80], label=\"Actual\", color=\"white\")\n",
        "    ax2.plot(df_results[\"Pred_LSTM\"][:80], label=\"LSTM\", color=\"#FFA500\", linestyle=\"--\")\n",
        "    ax2.legend()\n",
        "    st.pyplot(fig2)\n",
        "\n",
        "\n",
        "# SIDEBAR: USER UPLOAD\n",
        "\n",
        "st.sidebar.title(\"📂 Upload CSV for Prediction\")\n",
        "st.sidebar.markdown(\"Upload your own feature file to get predictions below:\")\n",
        "\n",
        "uploaded_file = st.sidebar.file_uploader(\"Choose your CSV file\", type=[\"csv\"])\n",
        "\n",
        "\n",
        "# GENERATE PREDICTIONS FOR USER FILE\n",
        "\n",
        "if uploaded_file:\n",
        "    user_df = pd.read_csv(uploaded_file)\n",
        "    st.markdown(\"### 🔍 Uploaded Data Preview\")\n",
        "    st.dataframe(user_df.head())\n",
        "\n",
        "    model_choice = st.selectbox(\"Select model for prediction:\", [\"XGBoost\", \"LSTM\"])\n",
        "\n",
        "    if st.button(\"🚀 Generate Predictions\"):\n",
        "        X = user_df.values.astype(float)\n",
        "        if model_choice == \"XGBoost\":\n",
        "            preds = xgb_model.predict(X)\n",
        "        else:\n",
        "            X_tensor = torch.tensor(X, dtype=torch.float32).unsqueeze(1)\n",
        "            with torch.no_grad():\n",
        "                preds = lstm_model(X_tensor).cpu().numpy().flatten()\n",
        "\n",
        "        user_df[\"Predicted_Sales\"] = preds\n",
        "        st.subheader(\"📊 Predicted Results\")\n",
        "        st.dataframe(user_df.head())\n",
        "\n",
        "        fig, ax = plt.subplots(figsize=(8, 4))\n",
        "        ax.plot(user_df[\"Predicted_Sales\"], label=\"Predicted Sales\", color=\"#00BFFF\")\n",
        "        ax.legend()\n",
        "        ax.grid(True, alpha=0.3)\n",
        "        st.pyplot(fig)\n",
        "\n",
        "        csv = user_df.to_csv(index=False).encode(\"utf-8\")\n",
        "        st.download_button(\"📥 Download Predictions\", csv, file_name=\"Predicted_Sales.csv\", mime=\"text/csv\")\n",
        "\n",
        "else:\n",
        "    st.sidebar.info(\"👆 Upload your test CSV to generate new predictions.\")\n",
        "\n",
        "\n"
      ],
      "metadata": {
        "colab": {
          "base_uri": "https://localhost:8080/"
        },
        "id": "OimejMAmJIox",
        "outputId": "f83e6f95-43cf-4869-88a4-22332056912d"
      },
      "execution_count": 57,
      "outputs": [
        {
          "output_type": "stream",
          "name": "stderr",
          "text": [
            "2025-10-30 23:35:30.114 Thread 'MainThread': missing ScriptRunContext! This warning can be ignored when running in bare mode.\n",
            "2025-10-30 23:35:30.116 Thread 'MainThread': missing ScriptRunContext! This warning can be ignored when running in bare mode.\n",
            "2025-10-30 23:35:30.117 Thread 'MainThread': missing ScriptRunContext! This warning can be ignored when running in bare mode.\n",
            "2025-10-30 23:35:30.118 Thread 'MainThread': missing ScriptRunContext! This warning can be ignored when running in bare mode.\n",
            "2025-10-30 23:35:30.120 Thread 'MainThread': missing ScriptRunContext! This warning can be ignored when running in bare mode.\n",
            "2025-10-30 23:35:30.122 Thread 'MainThread': missing ScriptRunContext! This warning can be ignored when running in bare mode.\n",
            "2025-10-30 23:35:30.123 Thread 'MainThread': missing ScriptRunContext! This warning can be ignored when running in bare mode.\n",
            "2025-10-30 23:35:30.124 Thread 'MainThread': missing ScriptRunContext! This warning can be ignored when running in bare mode.\n",
            "2025-10-30 23:35:30.125 Thread 'MainThread': missing ScriptRunContext! This warning can be ignored when running in bare mode.\n",
            "2025-10-30 23:35:30.127 Thread 'MainThread': missing ScriptRunContext! This warning can be ignored when running in bare mode.\n",
            "2025-10-30 23:35:30.136 Thread 'MainThread': missing ScriptRunContext! This warning can be ignored when running in bare mode.\n",
            "2025-10-30 23:35:30.138 Thread 'MainThread': missing ScriptRunContext! This warning can be ignored when running in bare mode.\n",
            "2025-10-30 23:35:30.139 Thread 'MainThread': missing ScriptRunContext! This warning can be ignored when running in bare mode.\n",
            "2025-10-30 23:35:30.140 Thread 'MainThread': missing ScriptRunContext! This warning can be ignored when running in bare mode.\n",
            "2025-10-30 23:35:30.143 Thread 'MainThread': missing ScriptRunContext! This warning can be ignored when running in bare mode.\n",
            "2025-10-30 23:35:30.144 Thread 'MainThread': missing ScriptRunContext! This warning can be ignored when running in bare mode.\n",
            "2025-10-30 23:35:30.156 Thread 'MainThread': missing ScriptRunContext! This warning can be ignored when running in bare mode.\n",
            "2025-10-30 23:35:30.157 Thread 'MainThread': missing ScriptRunContext! This warning can be ignored when running in bare mode.\n",
            "2025-10-30 23:35:30.159 Thread 'MainThread': missing ScriptRunContext! This warning can be ignored when running in bare mode.\n",
            "2025-10-30 23:35:30.160 Thread 'MainThread': missing ScriptRunContext! This warning can be ignored when running in bare mode.\n",
            "2025-10-30 23:35:30.162 Thread 'MainThread': missing ScriptRunContext! This warning can be ignored when running in bare mode.\n",
            "2025-10-30 23:35:30.163 Thread 'MainThread': missing ScriptRunContext! This warning can be ignored when running in bare mode.\n",
            "2025-10-30 23:35:30.164 Thread 'MainThread': missing ScriptRunContext! This warning can be ignored when running in bare mode.\n",
            "2025-10-30 23:35:30.166 Thread 'MainThread': missing ScriptRunContext! This warning can be ignored when running in bare mode.\n",
            "2025-10-30 23:35:30.167 Thread 'MainThread': missing ScriptRunContext! This warning can be ignored when running in bare mode.\n",
            "2025-10-30 23:35:30.168 Thread 'MainThread': missing ScriptRunContext! This warning can be ignored when running in bare mode.\n",
            "2025-10-30 23:35:30.170 Thread 'MainThread': missing ScriptRunContext! This warning can be ignored when running in bare mode.\n",
            "2025-10-30 23:35:30.170 Thread 'MainThread': missing ScriptRunContext! This warning can be ignored when running in bare mode.\n",
            "2025-10-30 23:35:30.171 Thread 'MainThread': missing ScriptRunContext! This warning can be ignored when running in bare mode.\n",
            "2025-10-30 23:35:30.172 Thread 'MainThread': missing ScriptRunContext! This warning can be ignored when running in bare mode.\n",
            "2025-10-30 23:35:30.172 Thread 'MainThread': missing ScriptRunContext! This warning can be ignored when running in bare mode.\n",
            "2025-10-30 23:35:30.174 Thread 'MainThread': missing ScriptRunContext! This warning can be ignored when running in bare mode.\n",
            "2025-10-30 23:35:30.174 Thread 'MainThread': missing ScriptRunContext! This warning can be ignored when running in bare mode.\n",
            "2025-10-30 23:35:30.175 Thread 'MainThread': missing ScriptRunContext! This warning can be ignored when running in bare mode.\n",
            "2025-10-30 23:35:30.176 Thread 'MainThread': missing ScriptRunContext! This warning can be ignored when running in bare mode.\n",
            "2025-10-30 23:35:30.177 Thread 'MainThread': missing ScriptRunContext! This warning can be ignored when running in bare mode.\n",
            "2025-10-30 23:35:30.178 Thread 'MainThread': missing ScriptRunContext! This warning can be ignored when running in bare mode.\n",
            "2025-10-30 23:35:30.203 Thread 'MainThread': missing ScriptRunContext! This warning can be ignored when running in bare mode.\n",
            "2025-10-30 23:35:30.479 Thread 'MainThread': missing ScriptRunContext! This warning can be ignored when running in bare mode.\n",
            "2025-10-30 23:35:30.480 Thread 'MainThread': missing ScriptRunContext! This warning can be ignored when running in bare mode.\n",
            "2025-10-30 23:35:30.481 Thread 'MainThread': missing ScriptRunContext! This warning can be ignored when running in bare mode.\n",
            "2025-10-30 23:35:30.482 Thread 'MainThread': missing ScriptRunContext! This warning can be ignored when running in bare mode.\n",
            "2025-10-30 23:35:30.483 Thread 'MainThread': missing ScriptRunContext! This warning can be ignored when running in bare mode.\n",
            "2025-10-30 23:35:30.484 Thread 'MainThread': missing ScriptRunContext! This warning can be ignored when running in bare mode.\n",
            "2025-10-30 23:35:30.505 Thread 'MainThread': missing ScriptRunContext! This warning can be ignored when running in bare mode.\n",
            "2025-10-30 23:35:30.709 Thread 'MainThread': missing ScriptRunContext! This warning can be ignored when running in bare mode.\n",
            "2025-10-30 23:35:30.710 Thread 'MainThread': missing ScriptRunContext! This warning can be ignored when running in bare mode.\n",
            "2025-10-30 23:35:30.712 Thread 'MainThread': missing ScriptRunContext! This warning can be ignored when running in bare mode.\n",
            "2025-10-30 23:35:30.713 Thread 'MainThread': missing ScriptRunContext! This warning can be ignored when running in bare mode.\n",
            "2025-10-30 23:35:30.714 Thread 'MainThread': missing ScriptRunContext! This warning can be ignored when running in bare mode.\n",
            "2025-10-30 23:35:30.716 Thread 'MainThread': missing ScriptRunContext! This warning can be ignored when running in bare mode.\n",
            "2025-10-30 23:35:30.718 Thread 'MainThread': missing ScriptRunContext! This warning can be ignored when running in bare mode.\n",
            "2025-10-30 23:35:30.720 Thread 'MainThread': missing ScriptRunContext! This warning can be ignored when running in bare mode.\n",
            "2025-10-30 23:35:30.720 Thread 'MainThread': missing ScriptRunContext! This warning can be ignored when running in bare mode.\n",
            "2025-10-30 23:35:30.721 Thread 'MainThread': missing ScriptRunContext! This warning can be ignored when running in bare mode.\n",
            "2025-10-30 23:35:30.723 Thread 'MainThread': missing ScriptRunContext! This warning can be ignored when running in bare mode.\n",
            "2025-10-30 23:35:30.724 Thread 'MainThread': missing ScriptRunContext! This warning can be ignored when running in bare mode.\n",
            "2025-10-30 23:35:30.727 Thread 'MainThread': missing ScriptRunContext! This warning can be ignored when running in bare mode.\n",
            "2025-10-30 23:35:30.728 Thread 'MainThread': missing ScriptRunContext! This warning can be ignored when running in bare mode.\n",
            "2025-10-30 23:35:30.729 Thread 'MainThread': missing ScriptRunContext! This warning can be ignored when running in bare mode.\n",
            "2025-10-30 23:35:30.731 Thread 'MainThread': missing ScriptRunContext! This warning can be ignored when running in bare mode.\n",
            "2025-10-30 23:35:30.732 Thread 'MainThread': missing ScriptRunContext! This warning can be ignored when running in bare mode.\n",
            "2025-10-30 23:35:30.734 Thread 'MainThread': missing ScriptRunContext! This warning can be ignored when running in bare mode.\n"
          ]
        }
      ]
    },
    {
      "cell_type": "code",
      "source": [
        "!streamlit run streamlit_app.py --server.port 8501 --server.address 0.0.0.0 >/dev/null\n"
      ],
      "metadata": {
        "id": "ROeuI12fdIJy"
      },
      "execution_count": null,
      "outputs": []
    }
  ]
}